{
 "cells": [
  {
   "cell_type": "markdown",
   "id": "c47f1790",
   "metadata": {},
   "source": [
    "# Data Cleansing and Preparation: Part II"
   ]
  },
  {
   "cell_type": "markdown",
   "id": "df0d2e9b",
   "metadata": {},
   "source": [
    "Import libraries"
   ]
  },
  {
   "cell_type": "code",
   "execution_count": 152,
   "id": "7a01dac7",
   "metadata": {},
   "outputs": [],
   "source": [
    "import pandas as pd \n",
    "import numpy as np\n",
    "import seaborn as sns \n",
    "import matplotlib.pyplot as plt"
   ]
  },
  {
   "cell_type": "markdown",
   "id": "6bb5abef",
   "metadata": {},
   "source": [
    "Using pandas to read csv for assignment seven"
   ]
  },
  {
   "cell_type": "code",
   "execution_count": 153,
   "id": "cd63c4b7",
   "metadata": {},
   "outputs": [],
   "source": [
    "products = pd.read_csv('assignment_seven.csv')"
   ]
  },
  {
   "cell_type": "markdown",
   "id": "086e9a54",
   "metadata": {},
   "source": [
    "Reading first five rows of data "
   ]
  },
  {
   "cell_type": "code",
   "execution_count": 154,
   "id": "6f23f59a",
   "metadata": {},
   "outputs": [
    {
     "data": {
      "text/html": [
       "<div>\n",
       "<style scoped>\n",
       "    .dataframe tbody tr th:only-of-type {\n",
       "        vertical-align: middle;\n",
       "    }\n",
       "\n",
       "    .dataframe tbody tr th {\n",
       "        vertical-align: top;\n",
       "    }\n",
       "\n",
       "    .dataframe thead th {\n",
       "        text-align: right;\n",
       "    }\n",
       "</style>\n",
       "<table border=\"1\" class=\"dataframe\">\n",
       "  <thead>\n",
       "    <tr style=\"text-align: right;\">\n",
       "      <th></th>\n",
       "      <th>transaction_id</th>\n",
       "      <th>transaction_date</th>\n",
       "      <th>full_name</th>\n",
       "      <th>record_id</th>\n",
       "      <th>products</th>\n",
       "    </tr>\n",
       "  </thead>\n",
       "  <tbody>\n",
       "    <tr>\n",
       "      <th>0</th>\n",
       "      <td>1</td>\n",
       "      <td>7/19/2021</td>\n",
       "      <td>Izzy Janssens</td>\n",
       "      <td>1df9f42a-8c0f-4e3d-aeca-5bd310dd277a</td>\n",
       "      <td>TERBUTALINE SULFATE</td>\n",
       "    </tr>\n",
       "    <tr>\n",
       "      <th>1</th>\n",
       "      <td>2</td>\n",
       "      <td>9/25/2021</td>\n",
       "      <td>Timmy Sanches</td>\n",
       "      <td>afaf2462-41b1-43dc-8702-264cf2a6ade0</td>\n",
       "      <td>Fentanyl</td>\n",
       "    </tr>\n",
       "    <tr>\n",
       "      <th>2</th>\n",
       "      <td>3</td>\n",
       "      <td>10/7/2021</td>\n",
       "      <td>Skyler Rawlcliffe</td>\n",
       "      <td>34528325-deb3-4deb-9107-12a89f5d1cfc</td>\n",
       "      <td>Lorazepam</td>\n",
       "    </tr>\n",
       "    <tr>\n",
       "      <th>3</th>\n",
       "      <td>4</td>\n",
       "      <td>5/26/2022</td>\n",
       "      <td>Torrance Petteford</td>\n",
       "      <td>6e379186-e61e-4926-ad03-0ac7759d7fab</td>\n",
       "      <td>risperidone</td>\n",
       "    </tr>\n",
       "    <tr>\n",
       "      <th>4</th>\n",
       "      <td>5</td>\n",
       "      <td>12/17/2021</td>\n",
       "      <td>Bendite Fardon</td>\n",
       "      <td>b0eb4c68-5737-4076-856d-7eacf2e6014d</td>\n",
       "      <td>Oxygen</td>\n",
       "    </tr>\n",
       "  </tbody>\n",
       "</table>\n",
       "</div>"
      ],
      "text/plain": [
       "   transaction_id transaction_date           full_name  \\\n",
       "0               1        7/19/2021       Izzy Janssens   \n",
       "1               2        9/25/2021       Timmy Sanches   \n",
       "2               3        10/7/2021   Skyler Rawlcliffe   \n",
       "3               4        5/26/2022  Torrance Petteford   \n",
       "4               5       12/17/2021      Bendite Fardon   \n",
       "\n",
       "                              record_id             products  \n",
       "0  1df9f42a-8c0f-4e3d-aeca-5bd310dd277a  TERBUTALINE SULFATE  \n",
       "1  afaf2462-41b1-43dc-8702-264cf2a6ade0             Fentanyl  \n",
       "2  34528325-deb3-4deb-9107-12a89f5d1cfc            Lorazepam  \n",
       "3  6e379186-e61e-4926-ad03-0ac7759d7fab          risperidone  \n",
       "4  b0eb4c68-5737-4076-856d-7eacf2e6014d               Oxygen  "
      ]
     },
     "execution_count": 154,
     "metadata": {},
     "output_type": "execute_result"
    }
   ],
   "source": [
    "products.head()"
   ]
  },
  {
   "cell_type": "markdown",
   "id": "0c32f7e9",
   "metadata": {},
   "source": [
    "Dropping all real names per Federal guidelines, so removing \"full_name\" column "
   ]
  },
  {
   "cell_type": "code",
   "execution_count": 155,
   "id": "dc0e89ef",
   "metadata": {},
   "outputs": [],
   "source": [
    "products.drop('full_name', axis=1, inplace=True)"
   ]
  },
  {
   "cell_type": "markdown",
   "id": "ccd0dd78",
   "metadata": {},
   "source": [
    "Making sure the names dropped"
   ]
  },
  {
   "cell_type": "code",
   "execution_count": 156,
   "id": "234906dd",
   "metadata": {},
   "outputs": [
    {
     "data": {
      "text/html": [
       "<div>\n",
       "<style scoped>\n",
       "    .dataframe tbody tr th:only-of-type {\n",
       "        vertical-align: middle;\n",
       "    }\n",
       "\n",
       "    .dataframe tbody tr th {\n",
       "        vertical-align: top;\n",
       "    }\n",
       "\n",
       "    .dataframe thead th {\n",
       "        text-align: right;\n",
       "    }\n",
       "</style>\n",
       "<table border=\"1\" class=\"dataframe\">\n",
       "  <thead>\n",
       "    <tr style=\"text-align: right;\">\n",
       "      <th></th>\n",
       "      <th>transaction_id</th>\n",
       "      <th>transaction_date</th>\n",
       "      <th>record_id</th>\n",
       "      <th>products</th>\n",
       "    </tr>\n",
       "  </thead>\n",
       "  <tbody>\n",
       "    <tr>\n",
       "      <th>0</th>\n",
       "      <td>1</td>\n",
       "      <td>7/19/2021</td>\n",
       "      <td>1df9f42a-8c0f-4e3d-aeca-5bd310dd277a</td>\n",
       "      <td>TERBUTALINE SULFATE</td>\n",
       "    </tr>\n",
       "    <tr>\n",
       "      <th>1</th>\n",
       "      <td>2</td>\n",
       "      <td>9/25/2021</td>\n",
       "      <td>afaf2462-41b1-43dc-8702-264cf2a6ade0</td>\n",
       "      <td>Fentanyl</td>\n",
       "    </tr>\n",
       "    <tr>\n",
       "      <th>2</th>\n",
       "      <td>3</td>\n",
       "      <td>10/7/2021</td>\n",
       "      <td>34528325-deb3-4deb-9107-12a89f5d1cfc</td>\n",
       "      <td>Lorazepam</td>\n",
       "    </tr>\n",
       "    <tr>\n",
       "      <th>3</th>\n",
       "      <td>4</td>\n",
       "      <td>5/26/2022</td>\n",
       "      <td>6e379186-e61e-4926-ad03-0ac7759d7fab</td>\n",
       "      <td>risperidone</td>\n",
       "    </tr>\n",
       "    <tr>\n",
       "      <th>4</th>\n",
       "      <td>5</td>\n",
       "      <td>12/17/2021</td>\n",
       "      <td>b0eb4c68-5737-4076-856d-7eacf2e6014d</td>\n",
       "      <td>Oxygen</td>\n",
       "    </tr>\n",
       "  </tbody>\n",
       "</table>\n",
       "</div>"
      ],
      "text/plain": [
       "   transaction_id transaction_date                             record_id  \\\n",
       "0               1        7/19/2021  1df9f42a-8c0f-4e3d-aeca-5bd310dd277a   \n",
       "1               2        9/25/2021  afaf2462-41b1-43dc-8702-264cf2a6ade0   \n",
       "2               3        10/7/2021  34528325-deb3-4deb-9107-12a89f5d1cfc   \n",
       "3               4        5/26/2022  6e379186-e61e-4926-ad03-0ac7759d7fab   \n",
       "4               5       12/17/2021  b0eb4c68-5737-4076-856d-7eacf2e6014d   \n",
       "\n",
       "              products  \n",
       "0  TERBUTALINE SULFATE  \n",
       "1             Fentanyl  \n",
       "2            Lorazepam  \n",
       "3          risperidone  \n",
       "4               Oxygen  "
      ]
     },
     "execution_count": 156,
     "metadata": {},
     "output_type": "execute_result"
    }
   ],
   "source": [
    "products.head()"
   ]
  },
  {
   "cell_type": "markdown",
   "id": "b3cb35a5",
   "metadata": {},
   "source": [
    "Created heatmap to show which columns had null values"
   ]
  },
  {
   "cell_type": "code",
   "execution_count": 157,
   "id": "c8960bd0",
   "metadata": {},
   "outputs": [
    {
     "data": {
      "text/plain": [
       "<AxesSubplot:>"
      ]
     },
     "execution_count": 157,
     "metadata": {},
     "output_type": "execute_result"
    },
    {
     "data": {
      "image/png": "[encoded data removed]",
      "text/plain": [
       "<Figure size 432x288 with 2 Axes>"
      ]
     },
     "metadata": {
      "needs_background": "light"
     },
     "output_type": "display_data"
    }
   ],
   "source": [
    "sns.heatmap(products.isnull(), cmap='viridis')"
   ]
  },
  {
   "cell_type": "markdown",
   "id": "074c2c2a",
   "metadata": {},
   "source": [
    "As seen in heatmap above, there are null values in \"record_id\" and \"products\" columns"
   ]
  },
  {
   "cell_type": "markdown",
   "id": "7e7c2505",
   "metadata": {},
   "source": [
    "Dropping null values from \"record_id\" and \"products\""
   ]
  },
  {
   "cell_type": "code",
   "execution_count": 158,
   "id": "7b559e2b",
   "metadata": {},
   "outputs": [],
   "source": [
    "products = products.dropna(subset=['record_id'])"
   ]
  },
  {
   "cell_type": "code",
   "execution_count": 159,
   "id": "21c8548d",
   "metadata": {},
   "outputs": [],
   "source": [
    "products = products.dropna(subset=['products'])"
   ]
  },
  {
   "cell_type": "markdown",
   "id": "8023bf6a",
   "metadata": {},
   "source": [
    "Checking to make sure null values dropped from each column"
   ]
  },
  {
   "cell_type": "code",
   "execution_count": 160,
   "id": "ee34aebe",
   "metadata": {},
   "outputs": [
    {
     "data": {
      "text/plain": [
       "False"
      ]
     },
     "execution_count": 160,
     "metadata": {},
     "output_type": "execute_result"
    }
   ],
   "source": [
    "products['record_id'].isnull().values.any()"
   ]
  },
  {
   "cell_type": "code",
   "execution_count": 161,
   "id": "dbc5ff85",
   "metadata": {},
   "outputs": [
    {
     "data": {
      "text/plain": [
       "False"
      ]
     },
     "execution_count": 161,
     "metadata": {},
     "output_type": "execute_result"
    }
   ],
   "source": [
    "products['products'].isnull().values.any()"
   ]
  },
  {
   "cell_type": "markdown",
   "id": "6b6de15e",
   "metadata": {},
   "source": [
    "Saving new dataset as \"output.csv\""
   ]
  },
  {
   "cell_type": "code",
   "execution_count": 162,
   "id": "8708e2a9",
   "metadata": {},
   "outputs": [],
   "source": [
    "products.to_csv('output.csv') "
   ]
  },
  {
   "cell_type": "markdown",
   "id": "4c12ac8d",
   "metadata": {},
   "source": [
    "Using pandas to read output.csv dataset "
   ]
  },
  {
   "cell_type": "code",
   "execution_count": 163,
   "id": "8b5bad06",
   "metadata": {},
   "outputs": [],
   "source": [
    "output = pd.read_csv('output.csv')"
   ]
  },
  {
   "cell_type": "code",
   "execution_count": 165,
   "id": "71e85693",
   "metadata": {},
   "outputs": [
    {
     "data": {
      "text/html": [
       "<div>\n",
       "<style scoped>\n",
       "    .dataframe tbody tr th:only-of-type {\n",
       "        vertical-align: middle;\n",
       "    }\n",
       "\n",
       "    .dataframe tbody tr th {\n",
       "        vertical-align: top;\n",
       "    }\n",
       "\n",
       "    .dataframe thead th {\n",
       "        text-align: right;\n",
       "    }\n",
       "</style>\n",
       "<table border=\"1\" class=\"dataframe\">\n",
       "  <thead>\n",
       "    <tr style=\"text-align: right;\">\n",
       "      <th></th>\n",
       "      <th>transaction_id</th>\n",
       "      <th>transaction_date</th>\n",
       "      <th>record_id</th>\n",
       "      <th>products</th>\n",
       "    </tr>\n",
       "  </thead>\n",
       "  <tbody>\n",
       "    <tr>\n",
       "      <th>0</th>\n",
       "      <td>1</td>\n",
       "      <td>7/19/2021</td>\n",
       "      <td>1df9f42a-8c0f-4e3d-aeca-5bd310dd277a</td>\n",
       "      <td>TERBUTALINE SULFATE</td>\n",
       "    </tr>\n",
       "    <tr>\n",
       "      <th>1</th>\n",
       "      <td>2</td>\n",
       "      <td>9/25/2021</td>\n",
       "      <td>afaf2462-41b1-43dc-8702-264cf2a6ade0</td>\n",
       "      <td>Fentanyl</td>\n",
       "    </tr>\n",
       "    <tr>\n",
       "      <th>2</th>\n",
       "      <td>3</td>\n",
       "      <td>10/7/2021</td>\n",
       "      <td>34528325-deb3-4deb-9107-12a89f5d1cfc</td>\n",
       "      <td>Lorazepam</td>\n",
       "    </tr>\n",
       "    <tr>\n",
       "      <th>3</th>\n",
       "      <td>4</td>\n",
       "      <td>5/26/2022</td>\n",
       "      <td>6e379186-e61e-4926-ad03-0ac7759d7fab</td>\n",
       "      <td>risperidone</td>\n",
       "    </tr>\n",
       "    <tr>\n",
       "      <th>4</th>\n",
       "      <td>5</td>\n",
       "      <td>12/17/2021</td>\n",
       "      <td>b0eb4c68-5737-4076-856d-7eacf2e6014d</td>\n",
       "      <td>Oxygen</td>\n",
       "    </tr>\n",
       "  </tbody>\n",
       "</table>\n",
       "</div>"
      ],
      "text/plain": [
       "   transaction_id transaction_date                             record_id  \\\n",
       "0               1        7/19/2021  1df9f42a-8c0f-4e3d-aeca-5bd310dd277a   \n",
       "1               2        9/25/2021  afaf2462-41b1-43dc-8702-264cf2a6ade0   \n",
       "2               3        10/7/2021  34528325-deb3-4deb-9107-12a89f5d1cfc   \n",
       "3               4        5/26/2022  6e379186-e61e-4926-ad03-0ac7759d7fab   \n",
       "4               5       12/17/2021  b0eb4c68-5737-4076-856d-7eacf2e6014d   \n",
       "\n",
       "              products  \n",
       "0  TERBUTALINE SULFATE  \n",
       "1             Fentanyl  \n",
       "2            Lorazepam  \n",
       "3          risperidone  \n",
       "4               Oxygen  "
      ]
     },
     "execution_count": 165,
     "metadata": {},
     "output_type": "execute_result"
    }
   ],
   "source": [
    "output.head()"
   ]
  },
  {
   "cell_type": "markdown",
   "id": "1ca1cf4f",
   "metadata": {},
   "source": [
    "Creating copy of output.csv to work with"
   ]
  },
  {
   "cell_type": "code",
   "execution_count": 166,
   "id": "85fee1b8",
   "metadata": {},
   "outputs": [],
   "source": [
    "output_copy = output.copy()"
   ]
  },
  {
   "cell_type": "markdown",
   "id": "8998e7d4",
   "metadata": {},
   "source": [
    "Splitting the strings of column 'products' by , and then vertically expanded the rows using explode() method to let each element have its own row\n"
   ]
  },
  {
   "cell_type": "code",
   "execution_count": 174,
   "id": "cb9cc9a6",
   "metadata": {},
   "outputs": [
    {
     "data": {
      "text/html": [
       "<div>\n",
       "<style scoped>\n",
       "    .dataframe tbody tr th:only-of-type {\n",
       "        vertical-align: middle;\n",
       "    }\n",
       "\n",
       "    .dataframe tbody tr th {\n",
       "        vertical-align: top;\n",
       "    }\n",
       "\n",
       "    .dataframe thead th {\n",
       "        text-align: right;\n",
       "    }\n",
       "</style>\n",
       "<table border=\"1\" class=\"dataframe\">\n",
       "  <thead>\n",
       "    <tr style=\"text-align: right;\">\n",
       "      <th></th>\n",
       "      <th>transaction_id</th>\n",
       "      <th>transaction_date</th>\n",
       "      <th>record_id</th>\n",
       "      <th>products</th>\n",
       "    </tr>\n",
       "  </thead>\n",
       "  <tbody>\n",
       "    <tr>\n",
       "      <th>0</th>\n",
       "      <td>1</td>\n",
       "      <td>7/19/2021</td>\n",
       "      <td>1df9f42a-8c0f-4e3d-aeca-5bd310dd277a</td>\n",
       "      <td>terbutaline sulfate</td>\n",
       "    </tr>\n",
       "    <tr>\n",
       "      <th>1</th>\n",
       "      <td>2</td>\n",
       "      <td>9/25/2021</td>\n",
       "      <td>afaf2462-41b1-43dc-8702-264cf2a6ade0</td>\n",
       "      <td>fentanyl</td>\n",
       "    </tr>\n",
       "    <tr>\n",
       "      <th>2</th>\n",
       "      <td>3</td>\n",
       "      <td>10/7/2021</td>\n",
       "      <td>34528325-deb3-4deb-9107-12a89f5d1cfc</td>\n",
       "      <td>lorazepam</td>\n",
       "    </tr>\n",
       "    <tr>\n",
       "      <th>3</th>\n",
       "      <td>4</td>\n",
       "      <td>5/26/2022</td>\n",
       "      <td>6e379186-e61e-4926-ad03-0ac7759d7fab</td>\n",
       "      <td>risperidone</td>\n",
       "    </tr>\n",
       "    <tr>\n",
       "      <th>4</th>\n",
       "      <td>5</td>\n",
       "      <td>12/17/2021</td>\n",
       "      <td>b0eb4c68-5737-4076-856d-7eacf2e6014d</td>\n",
       "      <td>oxygen</td>\n",
       "    </tr>\n",
       "    <tr>\n",
       "      <th>...</th>\n",
       "      <td>...</td>\n",
       "      <td>...</td>\n",
       "      <td>...</td>\n",
       "      <td>...</td>\n",
       "    </tr>\n",
       "    <tr>\n",
       "      <th>962</th>\n",
       "      <td>996</td>\n",
       "      <td>5/26/2022</td>\n",
       "      <td>67a9dcee-3784-482a-9505-2665a7c1cc02</td>\n",
       "      <td>ganciclovir sodium</td>\n",
       "    </tr>\n",
       "    <tr>\n",
       "      <th>963</th>\n",
       "      <td>997</td>\n",
       "      <td>9/11/2021</td>\n",
       "      <td>7d36bb32-112c-4836-ba3d-6e3bbbbc82d8</td>\n",
       "      <td>atovaquone</td>\n",
       "    </tr>\n",
       "    <tr>\n",
       "      <th>964</th>\n",
       "      <td>998</td>\n",
       "      <td>11/25/2021</td>\n",
       "      <td>421ff0bb-919c-4dd8-af59-db9fd3ea3248</td>\n",
       "      <td>sour dock sheep sorrel</td>\n",
       "    </tr>\n",
       "    <tr>\n",
       "      <th>965</th>\n",
       "      <td>999</td>\n",
       "      <td>3/11/2022</td>\n",
       "      <td>fe266fd4-c22f-4d3f-a276-74016092df33</td>\n",
       "      <td>octinoxate</td>\n",
       "    </tr>\n",
       "    <tr>\n",
       "      <th>966</th>\n",
       "      <td>1000</td>\n",
       "      <td>3/3/2022</td>\n",
       "      <td>ecf09222-1bb5-479c-a5c0-19d0762f340d</td>\n",
       "      <td>tetrahydrozoline hydrochloride</td>\n",
       "    </tr>\n",
       "  </tbody>\n",
       "</table>\n",
       "<p>1406 rows × 4 columns</p>\n",
       "</div>"
      ],
      "text/plain": [
       "     transaction_id transaction_date                             record_id  \\\n",
       "0                 1        7/19/2021  1df9f42a-8c0f-4e3d-aeca-5bd310dd277a   \n",
       "1                 2        9/25/2021  afaf2462-41b1-43dc-8702-264cf2a6ade0   \n",
       "2                 3        10/7/2021  34528325-deb3-4deb-9107-12a89f5d1cfc   \n",
       "3                 4        5/26/2022  6e379186-e61e-4926-ad03-0ac7759d7fab   \n",
       "4                 5       12/17/2021  b0eb4c68-5737-4076-856d-7eacf2e6014d   \n",
       "..              ...              ...                                   ...   \n",
       "962             996        5/26/2022  67a9dcee-3784-482a-9505-2665a7c1cc02   \n",
       "963             997        9/11/2021  7d36bb32-112c-4836-ba3d-6e3bbbbc82d8   \n",
       "964             998       11/25/2021  421ff0bb-919c-4dd8-af59-db9fd3ea3248   \n",
       "965             999        3/11/2022  fe266fd4-c22f-4d3f-a276-74016092df33   \n",
       "966            1000         3/3/2022  ecf09222-1bb5-479c-a5c0-19d0762f340d   \n",
       "\n",
       "                           products  \n",
       "0               terbutaline sulfate  \n",
       "1                          fentanyl  \n",
       "2                         lorazepam  \n",
       "3                       risperidone  \n",
       "4                            oxygen  \n",
       "..                              ...  \n",
       "962              ganciclovir sodium  \n",
       "963                      atovaquone  \n",
       "964          sour dock sheep sorrel  \n",
       "965                      octinoxate  \n",
       "966  tetrahydrozoline hydrochloride  \n",
       "\n",
       "[1406 rows x 4 columns]"
      ]
     },
     "execution_count": 174,
     "metadata": {},
     "output_type": "execute_result"
    }
   ],
   "source": [
    "output_copy['products'] = output_copy['products'].str.split(', ')\n",
    "output_copy = output_copy.explode('products')\n",
    "output_copy"
   ]
  },
  {
   "cell_type": "markdown",
   "id": "b607c1de",
   "metadata": {},
   "source": [
    "Reset index to get rid of duplicate indices. "
   ]
  },
  {
   "cell_type": "code",
   "execution_count": 175,
   "id": "c63aab70",
   "metadata": {},
   "outputs": [
    {
     "data": {
      "text/html": [
       "<div>\n",
       "<style scoped>\n",
       "    .dataframe tbody tr th:only-of-type {\n",
       "        vertical-align: middle;\n",
       "    }\n",
       "\n",
       "    .dataframe tbody tr th {\n",
       "        vertical-align: top;\n",
       "    }\n",
       "\n",
       "    .dataframe thead th {\n",
       "        text-align: right;\n",
       "    }\n",
       "</style>\n",
       "<table border=\"1\" class=\"dataframe\">\n",
       "  <thead>\n",
       "    <tr style=\"text-align: right;\">\n",
       "      <th></th>\n",
       "      <th>transaction_id</th>\n",
       "      <th>transaction_date</th>\n",
       "      <th>record_id</th>\n",
       "      <th>products</th>\n",
       "    </tr>\n",
       "  </thead>\n",
       "  <tbody>\n",
       "    <tr>\n",
       "      <th>0</th>\n",
       "      <td>1</td>\n",
       "      <td>7/19/2021</td>\n",
       "      <td>1df9f42a-8c0f-4e3d-aeca-5bd310dd277a</td>\n",
       "      <td>terbutaline sulfate</td>\n",
       "    </tr>\n",
       "    <tr>\n",
       "      <th>1</th>\n",
       "      <td>2</td>\n",
       "      <td>9/25/2021</td>\n",
       "      <td>afaf2462-41b1-43dc-8702-264cf2a6ade0</td>\n",
       "      <td>fentanyl</td>\n",
       "    </tr>\n",
       "    <tr>\n",
       "      <th>2</th>\n",
       "      <td>3</td>\n",
       "      <td>10/7/2021</td>\n",
       "      <td>34528325-deb3-4deb-9107-12a89f5d1cfc</td>\n",
       "      <td>lorazepam</td>\n",
       "    </tr>\n",
       "    <tr>\n",
       "      <th>3</th>\n",
       "      <td>4</td>\n",
       "      <td>5/26/2022</td>\n",
       "      <td>6e379186-e61e-4926-ad03-0ac7759d7fab</td>\n",
       "      <td>risperidone</td>\n",
       "    </tr>\n",
       "    <tr>\n",
       "      <th>4</th>\n",
       "      <td>5</td>\n",
       "      <td>12/17/2021</td>\n",
       "      <td>b0eb4c68-5737-4076-856d-7eacf2e6014d</td>\n",
       "      <td>oxygen</td>\n",
       "    </tr>\n",
       "    <tr>\n",
       "      <th>...</th>\n",
       "      <td>...</td>\n",
       "      <td>...</td>\n",
       "      <td>...</td>\n",
       "      <td>...</td>\n",
       "    </tr>\n",
       "    <tr>\n",
       "      <th>1401</th>\n",
       "      <td>996</td>\n",
       "      <td>5/26/2022</td>\n",
       "      <td>67a9dcee-3784-482a-9505-2665a7c1cc02</td>\n",
       "      <td>ganciclovir sodium</td>\n",
       "    </tr>\n",
       "    <tr>\n",
       "      <th>1402</th>\n",
       "      <td>997</td>\n",
       "      <td>9/11/2021</td>\n",
       "      <td>7d36bb32-112c-4836-ba3d-6e3bbbbc82d8</td>\n",
       "      <td>atovaquone</td>\n",
       "    </tr>\n",
       "    <tr>\n",
       "      <th>1403</th>\n",
       "      <td>998</td>\n",
       "      <td>11/25/2021</td>\n",
       "      <td>421ff0bb-919c-4dd8-af59-db9fd3ea3248</td>\n",
       "      <td>sour dock sheep sorrel</td>\n",
       "    </tr>\n",
       "    <tr>\n",
       "      <th>1404</th>\n",
       "      <td>999</td>\n",
       "      <td>3/11/2022</td>\n",
       "      <td>fe266fd4-c22f-4d3f-a276-74016092df33</td>\n",
       "      <td>octinoxate</td>\n",
       "    </tr>\n",
       "    <tr>\n",
       "      <th>1405</th>\n",
       "      <td>1000</td>\n",
       "      <td>3/3/2022</td>\n",
       "      <td>ecf09222-1bb5-479c-a5c0-19d0762f340d</td>\n",
       "      <td>tetrahydrozoline hydrochloride</td>\n",
       "    </tr>\n",
       "  </tbody>\n",
       "</table>\n",
       "<p>1406 rows × 4 columns</p>\n",
       "</div>"
      ],
      "text/plain": [
       "      transaction_id transaction_date                             record_id  \\\n",
       "0                  1        7/19/2021  1df9f42a-8c0f-4e3d-aeca-5bd310dd277a   \n",
       "1                  2        9/25/2021  afaf2462-41b1-43dc-8702-264cf2a6ade0   \n",
       "2                  3        10/7/2021  34528325-deb3-4deb-9107-12a89f5d1cfc   \n",
       "3                  4        5/26/2022  6e379186-e61e-4926-ad03-0ac7759d7fab   \n",
       "4                  5       12/17/2021  b0eb4c68-5737-4076-856d-7eacf2e6014d   \n",
       "...              ...              ...                                   ...   \n",
       "1401             996        5/26/2022  67a9dcee-3784-482a-9505-2665a7c1cc02   \n",
       "1402             997        9/11/2021  7d36bb32-112c-4836-ba3d-6e3bbbbc82d8   \n",
       "1403             998       11/25/2021  421ff0bb-919c-4dd8-af59-db9fd3ea3248   \n",
       "1404             999        3/11/2022  fe266fd4-c22f-4d3f-a276-74016092df33   \n",
       "1405            1000         3/3/2022  ecf09222-1bb5-479c-a5c0-19d0762f340d   \n",
       "\n",
       "                            products  \n",
       "0                terbutaline sulfate  \n",
       "1                           fentanyl  \n",
       "2                          lorazepam  \n",
       "3                        risperidone  \n",
       "4                             oxygen  \n",
       "...                              ...  \n",
       "1401              ganciclovir sodium  \n",
       "1402                      atovaquone  \n",
       "1403          sour dock sheep sorrel  \n",
       "1404                      octinoxate  \n",
       "1405  tetrahydrozoline hydrochloride  \n",
       "\n",
       "[1406 rows x 4 columns]"
      ]
     },
     "execution_count": 175,
     "metadata": {},
     "output_type": "execute_result"
    }
   ],
   "source": [
    "output_copy.reset_index(drop=True)"
   ]
  },
  {
   "cell_type": "markdown",
   "id": "52ee3f60",
   "metadata": {},
   "source": [
    "Making products values all lowercase to properly count"
   ]
  },
  {
   "cell_type": "code",
   "execution_count": 170,
   "id": "9a9f15de",
   "metadata": {},
   "outputs": [],
   "source": [
    "output_copy['products'] = output_copy['products'].str.lower()"
   ]
  },
  {
   "cell_type": "markdown",
   "id": "0aa60771",
   "metadata": {},
   "source": [
    "Using the value_counts function from pandas to check top 5 most frequent occuring values in \"products\" column"
   ]
  },
  {
   "cell_type": "code",
   "execution_count": 171,
   "id": "a496d55a",
   "metadata": {},
   "outputs": [
    {
     "data": {
      "text/plain": [
       "octinoxate          35\n",
       "acetaminophen       34\n",
       "titanium dioxide    29\n",
       "avobenzone          19\n",
       "alcohol             18\n",
       "Name: products, dtype: int64"
      ]
     },
     "execution_count": 171,
     "metadata": {},
     "output_type": "execute_result"
    }
   ],
   "source": [
    "output_copy['products'].value_counts().head(5)"
   ]
  },
  {
   "cell_type": "code",
   "execution_count": 172,
   "id": "b9ff8cf0",
   "metadata": {},
   "outputs": [
    {
     "data": {
      "text/plain": [
       "<AxesSubplot:>"
      ]
     },
     "execution_count": 172,
     "metadata": {},
     "output_type": "execute_result"
    },
    {
     "data": {
      "image/png": "[encoded data removed]",
      "text/plain": [
       "<Figure size 432x288 with 1 Axes>"
      ]
     },
     "metadata": {
      "needs_background": "light"
     },
     "output_type": "display_data"
    }
   ],
   "source": [
    "output_copy['products'].value_counts()[:5].plot(kind='barh')"
   ]
  }
 ],
 "metadata": {
  "kernelspec": {
   "display_name": "Python 3 (ipykernel)",
   "language": "python",
   "name": "python3"
  },
  "language_info": {
   "codemirror_mode": {
    "name": "ipython",
    "version": 3
   },
   "file_extension": ".py",
   "mimetype": "text/x-python",
   "name": "python",
   "nbconvert_exporter": "python",
   "pygments_lexer": "ipython3",
   "version": "3.9.12"
  }
 },
 "nbformat": 4,
 "nbformat_minor": 5
}
