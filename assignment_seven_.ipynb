{
 "cells": [
  {
   "cell_type": "markdown",
   "id": "ba28cd42",
   "metadata": {},
   "source": [
    "# Data Cleansing and Preparation: Part II"
   ]
  },
  {
   "cell_type": "markdown",
   "id": "90071498",
   "metadata": {},
   "source": [
    "Import libraries"
   ]
  },
  {
   "cell_type": "code",
   "execution_count": 21,
   "id": "0ae85286",
   "metadata": {},
   "outputs": [],
   "source": [
    "import pandas as pd \n",
    "import numpy as np\n",
    "import seaborn as sns \n",
    "import matplotlib.pyplot as plt"
   ]
  },
  {
   "cell_type": "markdown",
   "id": "da6362a5",
   "metadata": {},
   "source": [
    "Using pandas to read csv for assignment seven"
   ]
  },
  {
   "cell_type": "code",
   "execution_count": 22,
   "id": "d81a5cae",
   "metadata": {},
   "outputs": [],
   "source": [
    "products = pd.read_csv('assignment_seven.csv')"
   ]
  },
  {
   "cell_type": "markdown",
   "id": "c23068dd",
   "metadata": {},
   "source": [
    "Reading first five rows of data "
   ]
  },
  {
   "cell_type": "code",
   "execution_count": 4,
   "id": "ec75c5eb",
   "metadata": {},
   "outputs": [
    {
     "data": {
      "text/html": [
       "<div>\n",
       "<style scoped>\n",
       "    .dataframe tbody tr th:only-of-type {\n",
       "        vertical-align: middle;\n",
       "    }\n",
       "\n",
       "    .dataframe tbody tr th {\n",
       "        vertical-align: top;\n",
       "    }\n",
       "\n",
       "    .dataframe thead th {\n",
       "        text-align: right;\n",
       "    }\n",
       "</style>\n",
       "<table border=\"1\" class=\"dataframe\">\n",
       "  <thead>\n",
       "    <tr style=\"text-align: right;\">\n",
       "      <th></th>\n",
       "      <th>transaction_id</th>\n",
       "      <th>transaction_date</th>\n",
       "      <th>full_name</th>\n",
       "      <th>record_id</th>\n",
       "      <th>products</th>\n",
       "    </tr>\n",
       "  </thead>\n",
       "  <tbody>\n",
       "    <tr>\n",
       "      <th>0</th>\n",
       "      <td>1</td>\n",
       "      <td>7/19/2021</td>\n",
       "      <td>Izzy Janssens</td>\n",
       "      <td>1df9f42a-8c0f-4e3d-aeca-5bd310dd277a</td>\n",
       "      <td>TERBUTALINE SULFATE</td>\n",
       "    </tr>\n",
       "    <tr>\n",
       "      <th>1</th>\n",
       "      <td>2</td>\n",
       "      <td>9/25/2021</td>\n",
       "      <td>Timmy Sanches</td>\n",
       "      <td>afaf2462-41b1-43dc-8702-264cf2a6ade0</td>\n",
       "      <td>Fentanyl</td>\n",
       "    </tr>\n",
       "    <tr>\n",
       "      <th>2</th>\n",
       "      <td>3</td>\n",
       "      <td>10/7/2021</td>\n",
       "      <td>Skyler Rawlcliffe</td>\n",
       "      <td>34528325-deb3-4deb-9107-12a89f5d1cfc</td>\n",
       "      <td>Lorazepam</td>\n",
       "    </tr>\n",
       "    <tr>\n",
       "      <th>3</th>\n",
       "      <td>4</td>\n",
       "      <td>5/26/2022</td>\n",
       "      <td>Torrance Petteford</td>\n",
       "      <td>6e379186-e61e-4926-ad03-0ac7759d7fab</td>\n",
       "      <td>risperidone</td>\n",
       "    </tr>\n",
       "    <tr>\n",
       "      <th>4</th>\n",
       "      <td>5</td>\n",
       "      <td>12/17/2021</td>\n",
       "      <td>Bendite Fardon</td>\n",
       "      <td>b0eb4c68-5737-4076-856d-7eacf2e6014d</td>\n",
       "      <td>Oxygen</td>\n",
       "    </tr>\n",
       "  </tbody>\n",
       "</table>\n",
       "</div>"
      ],
      "text/plain": [
       "   transaction_id transaction_date           full_name  \\\n",
       "0               1        7/19/2021       Izzy Janssens   \n",
       "1               2        9/25/2021       Timmy Sanches   \n",
       "2               3        10/7/2021   Skyler Rawlcliffe   \n",
       "3               4        5/26/2022  Torrance Petteford   \n",
       "4               5       12/17/2021      Bendite Fardon   \n",
       "\n",
       "                              record_id             products  \n",
       "0  1df9f42a-8c0f-4e3d-aeca-5bd310dd277a  TERBUTALINE SULFATE  \n",
       "1  afaf2462-41b1-43dc-8702-264cf2a6ade0             Fentanyl  \n",
       "2  34528325-deb3-4deb-9107-12a89f5d1cfc            Lorazepam  \n",
       "3  6e379186-e61e-4926-ad03-0ac7759d7fab          risperidone  \n",
       "4  b0eb4c68-5737-4076-856d-7eacf2e6014d               Oxygen  "
      ]
     },
     "execution_count": 4,
     "metadata": {},
     "output_type": "execute_result"
    }
   ],
   "source": [
    "products.head()"
   ]
  },
  {
   "cell_type": "markdown",
   "id": "e7c82cd3",
   "metadata": {},
   "source": [
    "Dropping all real names per Federal guidelines, so removing \"full_name\" column "
   ]
  },
  {
   "cell_type": "code",
   "execution_count": 5,
   "id": "d826311f",
   "metadata": {},
   "outputs": [],
   "source": [
    "products.drop('full_name', axis=1, inplace=True)"
   ]
  },
  {
   "cell_type": "markdown",
   "id": "73541e9d",
   "metadata": {},
   "source": [
    "Making sure the names dropped"
   ]
  },
  {
   "cell_type": "code",
   "execution_count": 6,
   "id": "586628fc",
   "metadata": {},
   "outputs": [
    {
     "data": {
      "text/html": [
       "<div>\n",
       "<style scoped>\n",
       "    .dataframe tbody tr th:only-of-type {\n",
       "        vertical-align: middle;\n",
       "    }\n",
       "\n",
       "    .dataframe tbody tr th {\n",
       "        vertical-align: top;\n",
       "    }\n",
       "\n",
       "    .dataframe thead th {\n",
       "        text-align: right;\n",
       "    }\n",
       "</style>\n",
       "<table border=\"1\" class=\"dataframe\">\n",
       "  <thead>\n",
       "    <tr style=\"text-align: right;\">\n",
       "      <th></th>\n",
       "      <th>transaction_id</th>\n",
       "      <th>transaction_date</th>\n",
       "      <th>record_id</th>\n",
       "      <th>products</th>\n",
       "    </tr>\n",
       "  </thead>\n",
       "  <tbody>\n",
       "    <tr>\n",
       "      <th>0</th>\n",
       "      <td>1</td>\n",
       "      <td>7/19/2021</td>\n",
       "      <td>1df9f42a-8c0f-4e3d-aeca-5bd310dd277a</td>\n",
       "      <td>TERBUTALINE SULFATE</td>\n",
       "    </tr>\n",
       "    <tr>\n",
       "      <th>1</th>\n",
       "      <td>2</td>\n",
       "      <td>9/25/2021</td>\n",
       "      <td>afaf2462-41b1-43dc-8702-264cf2a6ade0</td>\n",
       "      <td>Fentanyl</td>\n",
       "    </tr>\n",
       "    <tr>\n",
       "      <th>2</th>\n",
       "      <td>3</td>\n",
       "      <td>10/7/2021</td>\n",
       "      <td>34528325-deb3-4deb-9107-12a89f5d1cfc</td>\n",
       "      <td>Lorazepam</td>\n",
       "    </tr>\n",
       "    <tr>\n",
       "      <th>3</th>\n",
       "      <td>4</td>\n",
       "      <td>5/26/2022</td>\n",
       "      <td>6e379186-e61e-4926-ad03-0ac7759d7fab</td>\n",
       "      <td>risperidone</td>\n",
       "    </tr>\n",
       "    <tr>\n",
       "      <th>4</th>\n",
       "      <td>5</td>\n",
       "      <td>12/17/2021</td>\n",
       "      <td>b0eb4c68-5737-4076-856d-7eacf2e6014d</td>\n",
       "      <td>Oxygen</td>\n",
       "    </tr>\n",
       "  </tbody>\n",
       "</table>\n",
       "</div>"
      ],
      "text/plain": [
       "   transaction_id transaction_date                             record_id  \\\n",
       "0               1        7/19/2021  1df9f42a-8c0f-4e3d-aeca-5bd310dd277a   \n",
       "1               2        9/25/2021  afaf2462-41b1-43dc-8702-264cf2a6ade0   \n",
       "2               3        10/7/2021  34528325-deb3-4deb-9107-12a89f5d1cfc   \n",
       "3               4        5/26/2022  6e379186-e61e-4926-ad03-0ac7759d7fab   \n",
       "4               5       12/17/2021  b0eb4c68-5737-4076-856d-7eacf2e6014d   \n",
       "\n",
       "              products  \n",
       "0  TERBUTALINE SULFATE  \n",
       "1             Fentanyl  \n",
       "2            Lorazepam  \n",
       "3          risperidone  \n",
       "4               Oxygen  "
      ]
     },
     "execution_count": 6,
     "metadata": {},
     "output_type": "execute_result"
    }
   ],
   "source": [
    "products.head()"
   ]
  },
  {
   "cell_type": "code",
   "execution_count": 7,
   "id": "62c45a6f",
   "metadata": {},
   "outputs": [
    {
     "name": "stdout",
     "output_type": "stream",
     "text": [
      "<class 'pandas.core.frame.DataFrame'>\n",
      "RangeIndex: 1000 entries, 0 to 999\n",
      "Data columns (total 4 columns):\n",
      " #   Column            Non-Null Count  Dtype \n",
      "---  ------            --------------  ----- \n",
      " 0   transaction_id    1000 non-null   int64 \n",
      " 1   transaction_date  1000 non-null   object\n",
      " 2   record_id         968 non-null    object\n",
      " 3   products          967 non-null    object\n",
      "dtypes: int64(1), object(3)\n",
      "memory usage: 31.4+ KB\n"
     ]
    }
   ],
   "source": [
    "products.info()"
   ]
  },
  {
   "cell_type": "markdown",
   "id": "99a22671",
   "metadata": {},
   "source": [
    "Created heatmap to show which columns had null values"
   ]
  },
  {
   "cell_type": "code",
   "execution_count": 8,
   "id": "930dc6cb",
   "metadata": {},
   "outputs": [
    {
     "data": {
      "text/plain": [
       "<AxesSubplot:>"
      ]
     },
     "execution_count": 8,
     "metadata": {},
     "output_type": "execute_result"
    },
    {
     "data": {
      "image/png": "[encoded data removed]",
      "text/plain": [
       "<Figure size 432x288 with 2 Axes>"
      ]
     },
     "metadata": {
      "needs_background": "light"
     },
     "output_type": "display_data"
    }
   ],
   "source": [
    "sns.heatmap(products.isnull(), cmap='viridis')"
   ]
  },
  {
   "cell_type": "markdown",
   "id": "d64ef0d1",
   "metadata": {},
   "source": [
    "As seen in heatmap above, there are null values in \"record_id\" and \"products\" columns"
   ]
  },
  {
   "cell_type": "markdown",
   "id": "1b8fb8d7",
   "metadata": {},
   "source": [
    "Dropping null values from \"record_id\" and \"products\""
   ]
  },
  {
   "cell_type": "code",
   "execution_count": 11,
   "id": "6b7b0ddb",
   "metadata": {},
   "outputs": [],
   "source": [
    "products = products.dropna(subset=['record_id'])"
   ]
  },
  {
   "cell_type": "code",
   "execution_count": 12,
   "id": "44c005f7",
   "metadata": {},
   "outputs": [],
   "source": [
    "products = products.dropna(subset=['products'])"
   ]
  },
  {
   "cell_type": "markdown",
   "id": "c32bca58",
   "metadata": {},
   "source": [
    "Checking to make sure null values dropped from each column"
   ]
  },
  {
   "cell_type": "code",
   "execution_count": 14,
   "id": "0050739b",
   "metadata": {},
   "outputs": [
    {
     "data": {
      "text/plain": [
       "False"
      ]
     },
     "execution_count": 14,
     "metadata": {},
     "output_type": "execute_result"
    }
   ],
   "source": [
    "products['record_id'].isnull().values.any()"
   ]
  },
  {
   "cell_type": "code",
   "execution_count": 15,
   "id": "24cf32b3",
   "metadata": {},
   "outputs": [
    {
     "data": {
      "text/plain": [
       "False"
      ]
     },
     "execution_count": 15,
     "metadata": {},
     "output_type": "execute_result"
    }
   ],
   "source": [
    "products['products'].isnull().values.any()"
   ]
  },
  {
   "cell_type": "code",
   "execution_count": 16,
   "id": "698ab8ba",
   "metadata": {},
   "outputs": [
    {
     "name": "stdout",
     "output_type": "stream",
     "text": [
      "     transaction_id transaction_date                             record_id  \\\n",
      "0                 1        7/19/2021  1df9f42a-8c0f-4e3d-aeca-5bd310dd277a   \n",
      "1                 2        9/25/2021  afaf2462-41b1-43dc-8702-264cf2a6ade0   \n",
      "2                 3        10/7/2021  34528325-deb3-4deb-9107-12a89f5d1cfc   \n",
      "3                 4        5/26/2022  6e379186-e61e-4926-ad03-0ac7759d7fab   \n",
      "4                 5       12/17/2021  b0eb4c68-5737-4076-856d-7eacf2e6014d   \n",
      "..              ...              ...                                   ...   \n",
      "995             996        5/26/2022  67a9dcee-3784-482a-9505-2665a7c1cc02   \n",
      "996             997        9/11/2021  7d36bb32-112c-4836-ba3d-6e3bbbbc82d8   \n",
      "997             998       11/25/2021  421ff0bb-919c-4dd8-af59-db9fd3ea3248   \n",
      "998             999        3/11/2022  fe266fd4-c22f-4d3f-a276-74016092df33   \n",
      "999            1000         3/3/2022  ecf09222-1bb5-479c-a5c0-19d0762f340d   \n",
      "\n",
      "                           products  \n",
      "0               TERBUTALINE SULFATE  \n",
      "1                          Fentanyl  \n",
      "2                         Lorazepam  \n",
      "3                       risperidone  \n",
      "4                            Oxygen  \n",
      "..                              ...  \n",
      "995              GANCICLOVIR SODIUM  \n",
      "996                      atovaquone  \n",
      "997          Sour Dock Sheep Sorrel  \n",
      "998                      OCTINOXATE  \n",
      "999  TETRAHYDROZOLINE HYDROCHLORIDE  \n",
      "\n",
      "[967 rows x 4 columns]\n"
     ]
    }
   ],
   "source": [
    "print(products)"
   ]
  },
  {
   "cell_type": "markdown",
   "id": "8d275594",
   "metadata": {},
   "source": [
    "Saving new dataset as \"output.csv\""
   ]
  },
  {
   "cell_type": "code",
   "execution_count": 18,
   "id": "afbff493",
   "metadata": {},
   "outputs": [],
   "source": [
    "products.to_csv('output.csv') "
   ]
  },
  {
   "cell_type": "markdown",
   "id": "cbf90854",
   "metadata": {},
   "source": [
    "Using pandas to read output.csv dataset "
   ]
  },
  {
   "cell_type": "code",
   "execution_count": 55,
   "id": "92cae117",
   "metadata": {},
   "outputs": [],
   "source": [
    "output = pd.read_csv('output.csv')"
   ]
  },
  {
   "cell_type": "code",
   "execution_count": 56,
   "id": "d4177073",
   "metadata": {},
   "outputs": [
    {
     "data": {
      "text/html": [
       "<div>\n",
       "<style scoped>\n",
       "    .dataframe tbody tr th:only-of-type {\n",
       "        vertical-align: middle;\n",
       "    }\n",
       "\n",
       "    .dataframe tbody tr th {\n",
       "        vertical-align: top;\n",
       "    }\n",
       "\n",
       "    .dataframe thead th {\n",
       "        text-align: right;\n",
       "    }\n",
       "</style>\n",
       "<table border=\"1\" class=\"dataframe\">\n",
       "  <thead>\n",
       "    <tr style=\"text-align: right;\">\n",
       "      <th></th>\n",
       "      <th>Unnamed: 0</th>\n",
       "      <th>transaction_id</th>\n",
       "      <th>transaction_date</th>\n",
       "      <th>record_id</th>\n",
       "      <th>products</th>\n",
       "    </tr>\n",
       "  </thead>\n",
       "  <tbody>\n",
       "    <tr>\n",
       "      <th>0</th>\n",
       "      <td>0</td>\n",
       "      <td>1</td>\n",
       "      <td>7/19/2021</td>\n",
       "      <td>1df9f42a-8c0f-4e3d-aeca-5bd310dd277a</td>\n",
       "      <td>TERBUTALINE SULFATE</td>\n",
       "    </tr>\n",
       "    <tr>\n",
       "      <th>1</th>\n",
       "      <td>1</td>\n",
       "      <td>2</td>\n",
       "      <td>9/25/2021</td>\n",
       "      <td>afaf2462-41b1-43dc-8702-264cf2a6ade0</td>\n",
       "      <td>Fentanyl</td>\n",
       "    </tr>\n",
       "    <tr>\n",
       "      <th>2</th>\n",
       "      <td>2</td>\n",
       "      <td>3</td>\n",
       "      <td>10/7/2021</td>\n",
       "      <td>34528325-deb3-4deb-9107-12a89f5d1cfc</td>\n",
       "      <td>Lorazepam</td>\n",
       "    </tr>\n",
       "    <tr>\n",
       "      <th>3</th>\n",
       "      <td>3</td>\n",
       "      <td>4</td>\n",
       "      <td>5/26/2022</td>\n",
       "      <td>6e379186-e61e-4926-ad03-0ac7759d7fab</td>\n",
       "      <td>risperidone</td>\n",
       "    </tr>\n",
       "    <tr>\n",
       "      <th>4</th>\n",
       "      <td>4</td>\n",
       "      <td>5</td>\n",
       "      <td>12/17/2021</td>\n",
       "      <td>b0eb4c68-5737-4076-856d-7eacf2e6014d</td>\n",
       "      <td>Oxygen</td>\n",
       "    </tr>\n",
       "  </tbody>\n",
       "</table>\n",
       "</div>"
      ],
      "text/plain": [
       "   Unnamed: 0  transaction_id transaction_date  \\\n",
       "0           0               1        7/19/2021   \n",
       "1           1               2        9/25/2021   \n",
       "2           2               3        10/7/2021   \n",
       "3           3               4        5/26/2022   \n",
       "4           4               5       12/17/2021   \n",
       "\n",
       "                              record_id             products  \n",
       "0  1df9f42a-8c0f-4e3d-aeca-5bd310dd277a  TERBUTALINE SULFATE  \n",
       "1  afaf2462-41b1-43dc-8702-264cf2a6ade0             Fentanyl  \n",
       "2  34528325-deb3-4deb-9107-12a89f5d1cfc            Lorazepam  \n",
       "3  6e379186-e61e-4926-ad03-0ac7759d7fab          risperidone  \n",
       "4  b0eb4c68-5737-4076-856d-7eacf2e6014d               Oxygen  "
      ]
     },
     "execution_count": 56,
     "metadata": {},
     "output_type": "execute_result"
    }
   ],
   "source": [
    "output.head()"
   ]
  },
  {
   "cell_type": "markdown",
   "id": "46153250",
   "metadata": {},
   "source": [
    "Using the value_counts function from pandas to check top 5 most frequent occuring values in \"products\" column"
   ]
  },
  {
   "cell_type": "code",
   "execution_count": 72,
   "id": "163a5d02",
   "metadata": {},
   "outputs": [
    {
     "data": {
      "text/plain": [
       "Acetaminophen       13\n",
       "Ibuprofen           10\n",
       "TITANIUM DIOXIDE    10\n",
       "ALCOHOL              8\n",
       "Salicylic Acid       8\n",
       "Name: products, dtype: int64"
      ]
     },
     "execution_count": 72,
     "metadata": {},
     "output_type": "execute_result"
    }
   ],
   "source": [
    "output['products'].value_counts().head(5)"
   ]
  },
  {
   "cell_type": "markdown",
   "id": "20fe28d0",
   "metadata": {},
   "source": [
    "Bar graph showing top 5 products"
   ]
  },
  {
   "cell_type": "code",
   "execution_count": 73,
   "id": "a97a94d3",
   "metadata": {},
   "outputs": [
    {
     "data": {
      "text/plain": [
       "<AxesSubplot:>"
      ]
     },
     "execution_count": 73,
     "metadata": {},
     "output_type": "execute_result"
    },
    {
     "data": {
      "image/png": "[encoded data removed]",
      "text/plain": [
       "<Figure size 432x288 with 1 Axes>"
      ]
     },
     "metadata": {
      "needs_background": "light"
     },
     "output_type": "display_data"
    }
   ],
   "source": [
    "output['products'].value_counts()[:5].plot(kind='barh')"
   ]
  }
 ],
 "metadata": {
  "kernelspec": {
   "display_name": "Python 3 (ipykernel)",
   "language": "python",
   "name": "python3"
  },
  "language_info": {
   "codemirror_mode": {
    "name": "ipython",
    "version": 3
   },
   "file_extension": ".py",
   "mimetype": "text/x-python",
   "name": "python",
   "nbconvert_exporter": "python",
   "pygments_lexer": "ipython3",
   "version": "3.9.12"
  }
 },
 "nbformat": 4,
 "nbformat_minor": 5
}
